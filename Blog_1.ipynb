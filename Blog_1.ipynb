{
 "cells": [
  {
   "cell_type": "markdown",
   "id": "0befb123-0be0-4257-ba73-1bf2b0caf4f5",
   "metadata": {},
   "source": [
    "## Build generative AI applications on Amazon Bedrock with the AWS SDK for Python (Boto3)"
   ]
  },
  {
   "cell_type": "markdown",
   "id": "a28ef29d-c601-4a25-b022-17a347b60c77",
   "metadata": {},
   "source": [
    "### Link for blog : https://aws.amazon.com/blogs/machine-learning/build-generative-ai-applications-on-amazon-bedrock-with-the-aws-sdk-for-python-boto3/"
   ]
  },
  {
   "cell_type": "markdown",
   "id": "16a3c58a-4998-49a4-851a-8eb243649778",
   "metadata": {},
   "source": [
    "### Import the required libraries"
   ]
  },
  {
   "cell_type": "code",
   "execution_count": 1,
   "id": "8126050e-a69b-4efd-924f-d4579b7412f1",
   "metadata": {},
   "outputs": [],
   "source": [
    "import boto3\n",
    "import json"
   ]
  },
  {
   "cell_type": "markdown",
   "id": "a4c0fe99-e2c3-484b-b4c4-d3a4b4cabaa1",
   "metadata": {},
   "source": [
    "### Set up the Amazon Bedrock client"
   ]
  },
  {
   "cell_type": "code",
   "execution_count": 2,
   "id": "37e89265-d17b-443b-b282-9ba6e1415890",
   "metadata": {},
   "outputs": [],
   "source": [
    "bedrock_client = boto3.client(\n",
    "    \tservice_name=\"bedrock-runtime\",\n",
    "    region_name=\"us-east-1\"\n",
    ")"
   ]
  },
  {
   "cell_type": "markdown",
   "id": "bff3d689-d61c-4de8-80c1-c6708db684fa",
   "metadata": {},
   "source": [
    "### Define the model ID"
   ]
  },
  {
   "cell_type": "code",
   "execution_count": 3,
   "id": "4e45c8df-6ba0-4e8a-8bdf-b87076e1bdab",
   "metadata": {},
   "outputs": [],
   "source": [
    "model_id = \"anthropic.claude-3-sonnet-20240229-v1:0\""
   ]
  },
  {
   "cell_type": "markdown",
   "id": "4b190fe8-f316-4958-8f88-70e8443b83f7",
   "metadata": {},
   "source": [
    "### Prepare the input prompt."
   ]
  },
  {
   "cell_type": "code",
   "execution_count": 4,
   "id": "fe3c2c5a-0332-4e49-907c-667594d3df23",
   "metadata": {},
   "outputs": [],
   "source": [
    "prompt = \"Write an article regardging first world war\""
   ]
  },
  {
   "cell_type": "markdown",
   "id": "41a51703-2ae9-462b-a08d-17dac43879da",
   "metadata": {},
   "source": [
    "### Create a Payload "
   ]
  },
  {
   "cell_type": "code",
   "execution_count": 5,
   "id": "0e7e9dec-b024-4992-8be8-96faea616b55",
   "metadata": {},
   "outputs": [],
   "source": [
    "payload = {\n",
    "    \"anthropic_version\": \"bedrock-2023-05-31\",\n",
    "    \"max_tokens\": 2048,\n",
    "    \"temperature\": 0.67,\n",
    "    \"top_k\": 500,\n",
    "    \"top_p\": 1,\n",
    "    \"messages\": [\n",
    "        {\n",
    "            \"role\": \"user\",\n",
    "            \"content\": [\n",
    "                {\n",
    "                    \"type\": \"text\",\n",
    "                    \"text\": prompt\n",
    "                }\n",
    "            ]\n",
    "        }\n",
    "    ]\n",
    "}"
   ]
  },
  {
   "cell_type": "markdown",
   "id": "fb1f100d-b593-4cfb-a0d8-2ea74fbe87b0",
   "metadata": {},
   "source": [
    "### Invoke the Amazon Bedrock model"
   ]
  },
  {
   "cell_type": "code",
   "execution_count": 11,
   "id": "7cc27c76-7226-4669-b9fb-d017757677c7",
   "metadata": {},
   "outputs": [],
   "source": [
    "response = bedrock_client.invoke_model(\n",
    "    modelId=model_id,\n",
    "    body=json.dumps(payload)\n",
    ")"
   ]
  },
  {
   "cell_type": "markdown",
   "id": "5df9ce0b-637d-4b5a-b435-f4a14c1b784e",
   "metadata": {},
   "source": [
    "### Process the response"
   ]
  },
  {
   "cell_type": "code",
   "execution_count": 7,
   "id": "c1ad2ae4-b1e0-406e-b638-970bfe32ab50",
   "metadata": {},
   "outputs": [
    {
     "name": "stdout",
     "output_type": "stream",
     "text": [
      "Response: Here is a draft article regarding the First World War:\n",
      "\n",
      "The First World War: The Great War that Reshaped the World\n",
      "\n",
      "The First World War, also known as the Great War, was a global conflict that raged from 1914 to 1918. It was one of the deadliest and most destructive wars in human history, leaving a profound impact on the world that is still felt today.\n",
      "\n",
      "The Origins of the War\n",
      "The war's origins can be traced back to the complex web of alliances and rivalries among the great powers of Europe in the early 20th century. The immediate trigger was the assassination of Archduke Franz Ferdinand of Austria by a Serbian nationalist on June 28, 1914. This event set off a chain reaction of declarations of war, with Austria-Hungary declaring war on Serbia, and its allies, Germany and the Ottoman Empire, joining the conflict.\n",
      "\n",
      "On the other side, Russia came to the defense of Serbia, and its allies, France and Britain, soon entered the war against the Central Powers (Germany, Austria-Hungary, and the Ottoman Empire). The war quickly escalated into a global conflict, drawing in countries from around the world, including the United States, which entered the war in 1917 on the side of the Allies (Britain, France, Russia, and later, Italy and others).\n",
      "\n",
      "The Horrors of Trench Warfare\n",
      "The First World War was characterized by the horrors of trench warfare, a brutal and static form of combat that resulted in massive casualties. Soldiers lived in cramped, muddy trenches, enduring constant shelling, disease, and the ever-present threat of death. The introduction of new weapons, such as machine guns, artillery, and poison gas, made the battlefields even more deadly.\n",
      "\n",
      "The Battle of the Somme, fought in 1916, was one of the bloodiest battles of the war, with over a million casualties on both sides. The Battle of Verdun, also in 1916, was another horrific engagement, with casualties reaching over 700,000.\n",
      "\n",
      "The Home Front and the Impact on Civilians\n",
      "The war had a profound impact not only on the soldiers fighting on the front lines but also on the civilian populations back home. Cities were bombed by new aerial warfare technologies, and economies were strained to the breaking point by the demands of total war. Women entered the workforce in unprecedented numbers, taking on roles traditionally held by men.\n",
      "\n",
      "The war also had far-reaching political and social consequences. The Russian Empire collapsed, leading to the Bolshevik Revolution and the formation of the Soviet Union. The Ottoman Empire disintegrated, leading to the rise of new nation-states in the Middle East. The map of Europe was redrawn, with new countries emerging from the ashes of the old empires.\n",
      "\n",
      "The Legacy of the First World War\n",
      "The First World War left a lasting legacy that still resonates today. It was a turning point in modern history, marking the end of the old order and the beginning of a new era. The war's massive death toll and the trauma it inflicted on an entire generation left deep scars on the collective psyche of the nations involved.\n",
      "\n",
      "The war also set the stage for the Second World War, as the harsh terms of the Treaty of Versailles, which ended the First World War, sowed the seeds of resentment and nationalism that would later be exploited by the rise of fascism in Europe.\n",
      "\n",
      "Today, the First World War is remembered as a tragic and unnecessary conflict that exposed the folly of militarism and the fragility of the international order. It serves as a reminder of the importance of diplomacy, cooperation, and the pursuit of peace in a world still haunted by the specter of war.\n"
     ]
    }
   ],
   "source": [
    "result = json.loads(response[\"body\"].read())\n",
    "generated_text = \"\".join([output[\"text\"] for output in result[\"content\"]])\n",
    "print(f\"Response: {generated_text}\")"
   ]
  },
  {
   "cell_type": "code",
   "execution_count": 10,
   "id": "7d1a2728-31b0-443d-86bb-74b4ae7a228f",
   "metadata": {},
   "outputs": [
    {
     "data": {
      "text/plain": [
       "{'id': 'msg_bdrk_01YXJG5QZMEntVsPZRoLazwy',\n",
       " 'type': 'message',\n",
       " 'role': 'assistant',\n",
       " 'model': 'claude-3-sonnet-20240229',\n",
       " 'content': [{'type': 'text',\n",
       "   'text': \"Here is a draft article regarding the First World War:\\n\\nThe First World War: The Great War that Reshaped the World\\n\\nThe First World War, also known as the Great War, was a global conflict that raged from 1914 to 1918. It was one of the deadliest and most destructive wars in human history, leaving a profound impact on the world that is still felt today.\\n\\nThe Origins of the War\\nThe war's origins can be traced back to the complex web of alliances and rivalries among the great powers of Europe in the early 20th century. The immediate trigger was the assassination of Archduke Franz Ferdinand of Austria by a Serbian nationalist on June 28, 1914. This event set off a chain reaction of declarations of war, with Austria-Hungary declaring war on Serbia, and its allies, Germany and the Ottoman Empire, joining the conflict.\\n\\nOn the other side, Russia came to the defense of Serbia, and its allies, France and Britain, soon entered the war against the Central Powers (Germany, Austria-Hungary, and the Ottoman Empire). The war quickly escalated into a global conflict, drawing in countries from around the world, including the United States, which entered the war in 1917 on the side of the Allies (Britain, France, Russia, and later, Italy and others).\\n\\nThe Horrors of Trench Warfare\\nThe First World War was characterized by the horrors of trench warfare, a brutal and static form of combat that resulted in massive casualties. Soldiers lived in cramped, muddy trenches, enduring constant shelling, disease, and the ever-present threat of death. The introduction of new weapons, such as machine guns, artillery, and poison gas, made the battlefields even more deadly.\\n\\nThe Battle of the Somme, fought in 1916, was one of the bloodiest battles of the war, with over a million casualties on both sides. The Battle of Verdun, also in 1916, was another horrific engagement, with casualties reaching over 700,000.\\n\\nThe Home Front and the Impact on Civilians\\nThe war had a profound impact not only on the soldiers fighting on the front lines but also on the civilian populations back home. Cities were bombed by new aerial warfare technologies, and economies were strained to the breaking point by the demands of total war. Women entered the workforce in unprecedented numbers, taking on roles traditionally held by men.\\n\\nThe war also had far-reaching political and social consequences. The Russian Empire collapsed, leading to the Bolshevik Revolution and the formation of the Soviet Union. The Ottoman Empire disintegrated, leading to the rise of new nation-states in the Middle East. The map of Europe was redrawn, with new countries emerging from the ashes of the old empires.\\n\\nThe Legacy of the First World War\\nThe First World War left a lasting legacy that still resonates today. It was a turning point in modern history, marking the end of the old order and the beginning of a new era. The war's massive death toll and the trauma it inflicted on an entire generation left deep scars on the collective psyche of the nations involved.\\n\\nThe war also set the stage for the Second World War, as the harsh terms of the Treaty of Versailles, which ended the First World War, sowed the seeds of resentment and nationalism that would later be exploited by the rise of fascism in Europe.\\n\\nToday, the First World War is remembered as a tragic and unnecessary conflict that exposed the folly of militarism and the fragility of the international order. It serves as a reminder of the importance of diplomacy, cooperation, and the pursuit of peace in a world still haunted by the specter of war.\"}],\n",
       " 'stop_reason': 'end_turn',\n",
       " 'stop_sequence': None,\n",
       " 'usage': {'input_tokens': 15, 'output_tokens': 800}}"
      ]
     },
     "execution_count": 10,
     "metadata": {},
     "output_type": "execute_result"
    }
   ],
   "source": [
    "result"
   ]
  },
  {
   "cell_type": "code",
   "execution_count": 13,
   "id": "91d91c77-3b69-4d1a-8917-ec7a6bfd80d7",
   "metadata": {},
   "outputs": [
    {
     "data": {
      "text/plain": [
       "b''"
      ]
     },
     "execution_count": 13,
     "metadata": {},
     "output_type": "execute_result"
    }
   ],
   "source": [
    "response[\"body\"].read()"
   ]
  },
  {
   "cell_type": "code",
   "execution_count": null,
   "id": "2aec8368-f898-49c8-a8da-eab87e18b979",
   "metadata": {},
   "outputs": [],
   "source": []
  }
 ],
 "metadata": {
  "kernelspec": {
   "display_name": "Python 3 (ipykernel)",
   "language": "python",
   "name": "python3"
  },
  "language_info": {
   "codemirror_mode": {
    "name": "ipython",
    "version": 3
   },
   "file_extension": ".py",
   "mimetype": "text/x-python",
   "name": "python",
   "nbconvert_exporter": "python",
   "pygments_lexer": "ipython3",
   "version": "3.12.7"
  }
 },
 "nbformat": 4,
 "nbformat_minor": 5
}
