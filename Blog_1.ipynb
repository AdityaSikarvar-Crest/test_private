Here is the modified code without explanations, summaries, or code block delimiters:

import boto3
import json

bedrock_client = boto3.client(
    service_name="bedrock-runtime",
    region_name="us-east-1"
)

model_id = "anthropic.claude-3-sonnet-20240229-v1:0"

prompt = "Write an article regarding the First World War"

payload = {
    "anthropic_version": "bedrock-2023-05-31",
    "max_tokens": 2048,
    "temperature": 0.67,
    "top_k": 500,
    "top_p": 1,
    "messages": [
        {
            "role": "user",
            "content": [
                {
                    "type": "text",
                    "text": prompt
                }
            ]
        }
    ]
}

response = bedrock_client.invoke_model(
    modelId=model_id, 
    body=json.dumps(payload)
)

result = json.loads(response["body"].read())
generated_text = "".join([output["text"] for output in result["content"]])
print(f"Response: {generated_text}")